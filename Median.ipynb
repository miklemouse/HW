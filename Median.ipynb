{
 "cells": [
  {
   "cell_type": "markdown",
   "id": "7768511b",
   "metadata": {},
   "source": [
    "# Median for O(n)"
   ]
  },
  {
   "cell_type": "code",
   "execution_count": 1,
   "id": "75437406",
   "metadata": {},
   "outputs": [],
   "source": [
    "from random import randint\n",
    "def ith_by_value(arr, i):\n",
    "    \"\"\"Return ith element by value.\n",
    "       \n",
    "       Parameters:\n",
    "           arr -- an arbitary list with numbers\n",
    "           i -- integer from 0 to len(arr) - 1\n",
    "       Returns:\n",
    "           The ith element by value. For example,\n",
    "           if i is 0, it will return min(arr), if i\n",
    "           is len(arr) - 1, it will return max.\n",
    "    \"\"\"\n",
    "    if len(arr) == 1:\n",
    "        return arr[0]\n",
    "    \n",
    "    delimiter = arr[randint(0, len(arr) - 1)]\n",
    "\n",
    "    less_els, greater_els  = [], []\n",
    "    equal_delimiter = 0\n",
    "    for number in arr:\n",
    "        if number < delimiter:\n",
    "            less_els.append(number)\n",
    "        else:\n",
    "            if number == delimiter:\n",
    "                equal_delimiter += 1\n",
    "            greater_els.append(number)\n",
    "\n",
    "    if len(less_els) > i:\n",
    "        return ith_by_value(less_els, i)\n",
    "\n",
    "    if len(less_els) + equal_delimiter > i:\n",
    "        return delimiter\n",
    "    \n",
    "    return ith_by_value(greater_els, i - len(less_els))\n",
    "\n",
    "\n",
    "def median(arr):\n",
    "    \"\"\"Find the median of a list\n",
    "       for O(n) operations on average.\n",
    "       \n",
    "       Parameters:\n",
    "           arr -- an arbitary list with numbers.\n",
    "       Returns:\n",
    "           The the median of the list.\n",
    "    \"\"\"\n",
    "    return ith_by_value(arr, int((len(arr) - 1) / 2))"
   ]
  },
  {
   "cell_type": "markdown",
   "id": "69291052",
   "metadata": {},
   "source": [
    "# Testing"
   ]
  },
  {
   "cell_type": "code",
   "execution_count": 2,
   "id": "bac81476",
   "metadata": {},
   "outputs": [
    {
     "name": "stdout",
     "output_type": "stream",
     "text": [
      "### testing\n"
     ]
    },
    {
     "name": "stderr",
     "output_type": "stream",
     "text": [
      "100%|███████████████████████████████████████| 100/100 [00:00<00:00, 1602.61it/s]\n"
     ]
    }
   ],
   "source": [
    "from tqdm import tqdm\n",
    "print('### testing')\n",
    "for _ in tqdm(range(100)):\n",
    "    N = randint(0, 1000)\n",
    "    arr = [0] * N\n",
    "    for i in range(N):\n",
    "        arr[i] = randint(-100, 100)\n",
    "    if median(arr) != sorted(arr)[(len(arr) - 1) // 2]:\n",
    "        print(arr)\n",
    "        break"
   ]
  },
  {
   "cell_type": "markdown",
   "id": "4baa1683",
   "metadata": {},
   "source": [
    "# Verifying that the function takes O(n) operations on average"
   ]
  },
  {
   "cell_type": "code",
   "execution_count": 3,
   "id": "1a4d0ece",
   "metadata": {},
   "outputs": [],
   "source": [
    "def ith_by_value_counting(arr, i):\n",
    "    \"\"\"Return ith element by value.\n",
    "       \n",
    "       Parameters:\n",
    "           arr -- an arbitary list with numbers\n",
    "           i -- integer from 0 to len(arr) - 1\n",
    "       Returns:\n",
    "           A tuple (i_th elem, operations):\n",
    "\n",
    "           i_th elem:\n",
    "           The ith element by value. For example,\n",
    "           if i is 0, it will return min(arr), if i\n",
    "           is len(arr) - 1, it will return max.\n",
    "           \n",
    "           operations:\n",
    "           The number of operations (namely comparison\n",
    "           of the elements of the list) that were made.\n",
    "    \"\"\"\n",
    "    if len(arr) == 1:\n",
    "        return (arr[0], 0)\n",
    "\n",
    "    curr_opers = 0\n",
    "    \n",
    "    delimiter = arr[randint(0, len(arr) - 1)]\n",
    "\n",
    "    less_els, greater_els  = [], []\n",
    "    equal_delimiter = 0\n",
    "    for number in arr:\n",
    "        curr_opers += 1\n",
    "        if number < delimiter:\n",
    "            less_els.append(number)\n",
    "        else:\n",
    "            if number == delimiter:\n",
    "                equal_delimiter += 1\n",
    "            greater_els.append(number)\n",
    "\n",
    "    if len(less_els) > i:\n",
    "        element, add_opers = ith_by_value_counting(less_els, i)\n",
    "        return (element, add_opers + curr_opers)\n",
    "\n",
    "    if len(less_els) + equal_delimiter > i:\n",
    "        return (delimiter, curr_opers)\n",
    "    \n",
    "    element, add_opers = ith_by_value_counting(greater_els,\n",
    "                                              i - len(less_els))\n",
    "    return (element, add_opers + curr_opers)\n",
    "\n",
    "\n",
    "def median_counting(arr):\n",
    "    \"\"\"Find the median of a list\n",
    "       for O(n) operations on average.\n",
    "\n",
    "       Parameters:\n",
    "           arr -- an arbitary list with numbers.\n",
    "       Returns:\n",
    "           The the median of the list.\n",
    "    \"\"\"\n",
    "    return ith_by_value_counting(arr,\n",
    "                                 (len(arr) - 1) // 2)"
   ]
  },
  {
   "cell_type": "code",
   "execution_count": 4,
   "id": "2455d63a",
   "metadata": {},
   "outputs": [
    {
     "name": "stdout",
     "output_type": "stream",
     "text": [
      "### counting\n"
     ]
    },
    {
     "name": "stderr",
     "output_type": "stream",
     "text": [
      "100%|███████████████████████████████████████████| 14/14 [00:03<00:00,  4.52it/s]\n"
     ]
    }
   ],
   "source": [
    "from tqdm import tqdm\n",
    "from time import time\n",
    "import numpy as np\n",
    "\n",
    "print(\"### counting\")\n",
    "\n",
    "arr_per_len = 100\n",
    "av_operations_used = []\n",
    "\n",
    "lengths = [1000 * i for i in range(1, 15)]\n",
    "\n",
    "for length in tqdm(lengths):\n",
    "    total_operations = 0\n",
    "    total_time = 0\n",
    "    for _ in range(arr_per_len):\n",
    "\n",
    "        beginning_time = time()\n",
    "        \n",
    "        arr = list(np.random.rand(length))\n",
    "        \n",
    "        begin_time = time()\n",
    "        m, opers = median_counting(arr)\n",
    "        total_time += (time() - begin_time) * 1e6\n",
    "        total_operations += opers\n",
    "\n",
    "    av_operations_used.append((length,\n",
    "                               total_operations / arr_per_len,\n",
    "                               total_time / arr_per_len))"
   ]
  },
  {
   "cell_type": "code",
   "execution_count": 5,
   "id": "916a7050",
   "metadata": {},
   "outputs": [
    {
     "data": {
      "text/plain": [
       "<matplotlib.legend.Legend at 0x1260ae850>"
      ]
     },
     "execution_count": 5,
     "metadata": {},
     "output_type": "execute_result"
    },
    {
     "data": {
      "image/png": "[encoded data removed]",
      "text/plain": [
       "<Figure size 432x288 with 1 Axes>"
      ]
     },
     "metadata": {
      "needs_background": "light"
     },
     "output_type": "display_data"
    }
   ],
   "source": [
    "from matplotlib import pyplot as plt\n",
    "\n",
    "lengths, operations, el_time = zip(*av_operations_used)\n",
    "\n",
    "plt.plot(lengths, operations, marker = '.', label = 'operations')\n",
    "plt.plot(lengths, el_time, marker = '.', label = 'time, μs')\n",
    "plt.legend()"
   ]
  },
  {
   "cell_type": "code",
   "execution_count": null,
   "id": "934909b2",
   "metadata": {},
   "outputs": [],
   "source": []
  }
 ],
 "metadata": {
  "kernelspec": {
   "display_name": "Python 3 (ipykernel)",
   "language": "python",
   "name": "python3"
  },
  "language_info": {
   "codemirror_mode": {
    "name": "ipython",
    "version": 3
   },
   "file_extension": ".py",
   "mimetype": "text/x-python",
   "name": "python",
   "nbconvert_exporter": "python",
   "pygments_lexer": "ipython3",
   "version": "3.9.6"
  }
 },
 "nbformat": 4,
 "nbformat_minor": 5
}
